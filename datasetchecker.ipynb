{
 "cells": [
  {
   "cell_type": "code",
   "execution_count": 1,
   "metadata": {},
   "outputs": [
    {
     "name": "stderr",
     "output_type": "stream",
     "text": [
      "/home/surenoobster/anaconda3/envs/readability_summ/lib/python3.7/site-packages/tqdm/auto.py:21: TqdmWarning: IProgress not found. Please update jupyter and ipywidgets. See https://ipywidgets.readthedocs.io/en/stable/user_install.html\n",
      "  from .autonotebook import tqdm as notebook_tqdm\n",
      "Found cached dataset json (/home/surenoobster/.cache/huggingface/datasets/json/default-441fc652ce71c420/0.0.0/8bb11242116d547c741b2e8a1f18598ffdd40a1d4f2a2872c7a28b697434bc96)\n",
      "100%|██████████| 3/3 [00:00<00:00, 30.69it/s]"
     ]
    },
    {
     "name": "stdout",
     "output_type": "stream",
     "text": [
      "DatasetDict({\n",
      "    train: Dataset({\n",
      "        features: ['id', 'article', 'summary'],\n",
      "        num_rows: 287113\n",
      "    })\n",
      "    validation: Dataset({\n",
      "        features: ['id', 'article', 'summary'],\n",
      "        num_rows: 13368\n",
      "    })\n",
      "    test: Dataset({\n",
      "        features: ['id', 'article', 'summary'],\n",
      "        num_rows: 11490\n",
      "    })\n",
      "})\n",
      "dict_keys(['train', 'validation', 'test'])\n",
      "{'id': ['f001ec5c4704938247d27a44948eebb37ae98d01'], 'article': ['(CNN)The Palestinian Authority officially became the 123rd member of the International Criminal Court on Wednesday, a step that gives the court jurisdiction over alleged crimes in Palestinian territories. The formal accession was marked with a ceremony at The Hague, in the Netherlands, where the court is based. The Palestinians signed the ICC\\'s founding Rome Statute in January, when they also accepted its jurisdiction over alleged crimes committed \"in the occupied Palestinian territory, including East Jerusalem, since June 13, 2014.\" Later that month, the ICC opened a preliminary examination into the situation in Palestinian territories, paving the way for possible war crimes investigations against Israelis. As members of the court, Palestinians may be subject to counter-charges as well. Israel and the United States, neither of which is an ICC member, opposed the Palestinians\\' efforts to join the body. But Palestinian Foreign Minister Riad al-Malki, speaking at Wednesday\\'s ceremony, said it was a move toward greater justice. \"As Palestine formally becomes a State Party to the Rome Statute today, the world is also a step closer to ending a long era of impunity and injustice,\" he said, according to an ICC news release. \"Indeed, today brings us closer to our shared goals of justice and peace.\" Judge Kuniko Ozaki, a vice president of the ICC, said acceding to the treaty was just the first step for the Palestinians. \"As the Rome Statute today enters into force for the State of Palestine, Palestine acquires all the rights as well as responsibilities that come with being a State Party to the Statute. These are substantive commitments, which cannot be taken lightly,\" she said. Rights group Human Rights Watch welcomed the development. \"Governments seeking to penalize Palestine for joining the ICC should immediately end their pressure, and countries that support universal acceptance of the court\\'s treaty should speak out to welcome its membership,\" said Balkees Jarrah, international justice counsel for the group. \"What\\'s objectionable is the attempts to undermine international justice, not Palestine\\'s decision to join a treaty to which over 100 countries around the world are members.\" In January, when the preliminary ICC examination was opened, Israeli Prime Minister Benjamin Netanyahu described it as an outrage, saying the court was overstepping its boundaries. The United States also said it \"strongly\" disagreed with the court\\'s decision. \"As we have said repeatedly, we do not believe that Palestine is a state and therefore we do not believe that it is eligible to join the ICC,\" the State Department said in a statement. It urged the warring sides to resolve their differences through direct negotiations. \"We will continue to oppose actions against Israel at the ICC as counterproductive to the cause of peace,\" it said. But the ICC begs to differ with the definition of a state for its purposes and refers to the territories as \"Palestine.\" While a preliminary examination is not a formal investigation, it allows the court to review evidence and determine whether to investigate suspects on both sides. Prosecutor Fatou Bensouda said her office would \"conduct its analysis in full independence and impartiality.\" The war between Israel and Hamas militants in Gaza last summer left more than 2,000 people dead. The inquiry will include alleged war crimes committed since June. The International Criminal Court was set up in 2002 to prosecute genocide, crimes against humanity and war crimes. CNN\\'s Vasco Cotovio, Kareem Khadder and Faith Karimi contributed to this report.'], 'summary': ['Membership gives the ICC jurisdiction over alleged crimes committed in Palestinian territories since last June .\\nIsrael and the United States opposed the move, which could open the door to war crimes investigations against Israelis .']}\n"
     ]
    },
    {
     "name": "stderr",
     "output_type": "stream",
     "text": [
      "\n"
     ]
    }
   ],
   "source": [
    "import json\n",
    "from datasets import load_dataset\n",
    "\n",
    "# Update the paths to your local dataset files\n",
    "data_files = {\n",
    "    \"train\": \"/home/surenoobster/Documents/controllable-readability-summarization/src/Local_Dataset/train.json\",\n",
    "    \"validation\": \"/home/surenoobster/Documents/controllable-readability-summarization/src/Local_Dataset/validation.json\",\n",
    "    \"test\": \"/home/surenoobster/Documents/controllable-readability-summarization/src/Local_Dataset/test.json\"\n",
    "}\n",
    "\n",
    "# Load dataset from local files\n",
    "dataset = load_dataset(\"json\", data_files=data_files)\n",
    "\n",
    "# Print the entire dataset structure (including the splits)\n",
    "print(dataset)\n",
    "\n",
    "# Print the keys (splits) available in the dataset\n",
    "print(dataset.keys())\n",
    "\n",
    "\n",
    "print(dataset['test'][:1])\n"
   ]
  },
  {
   "cell_type": "code",
   "execution_count": 2,
   "metadata": {},
   "outputs": [
    {
     "name": "stderr",
     "output_type": "stream",
     "text": [
      "Found cached dataset json (/home/surenoobster/.cache/huggingface/datasets/json/default-441fc652ce71c420/0.0.0/8bb11242116d547c741b2e8a1f18598ffdd40a1d4f2a2872c7a28b697434bc96)\n",
      "100%|██████████| 3/3 [00:00<00:00, 583.30it/s]"
     ]
    },
    {
     "name": "stdout",
     "output_type": "stream",
     "text": [
      "Column names in the 'train' split:\n",
      "dict_keys(['id', 'article', 'summary'])\n",
      "\n",
      "Column names in the 'validation' split:\n",
      "dict_keys(['id', 'article', 'summary'])\n",
      "\n",
      "Column names in the 'test' split:\n",
      "dict_keys(['id', 'article', 'summary'])\n"
     ]
    },
    {
     "name": "stderr",
     "output_type": "stream",
     "text": [
      "\n"
     ]
    }
   ],
   "source": [
    "import json\n",
    "from datasets import load_dataset\n",
    "\n",
    "# Update the paths to your local dataset files\n",
    "data_files = {\n",
    "    \"train\": \"/home/surenoobster/Documents/controllable-readability-summarization/src/Local_Dataset/train.json\",\n",
    "    \"validation\": \"/home/surenoobster/Documents/controllable-readability-summarization/src/Local_Dataset/validation.json\",\n",
    "    \"test\": \"/home/surenoobster/Documents/controllable-readability-summarization/src/Local_Dataset/test.json\"\n",
    "}\n",
    "\n",
    "# Load dataset from local files\n",
    "dataset = load_dataset(\"json\", data_files=data_files)\n",
    "\n",
    "# Print the column names (keys) of the first entry in the 'train' split\n",
    "print(\"Column names in the 'train' split:\")\n",
    "print(dataset['train'].features.keys())\n",
    "\n",
    "# Similarly, print the column names for the 'validation' and 'test' splits\n",
    "print(\"\\nColumn names in the 'validation' split:\")\n",
    "print(dataset['validation'].features.keys())\n",
    "\n",
    "print(\"\\nColumn names in the 'test' split:\")\n",
    "print(dataset['test'].features.keys())\n"
   ]
  },
  {
   "cell_type": "code",
   "execution_count": 2,
   "metadata": {},
   "outputs": [
    {
     "name": "stderr",
     "output_type": "stream",
     "text": [
      "Found cached dataset json (/home/surenoobster/.cache/huggingface/datasets/json/default-441fc652ce71c420/0.0.0/8bb11242116d547c741b2e8a1f18598ffdd40a1d4f2a2872c7a28b697434bc96)\n",
      "100%|██████████| 3/3 [00:00<00:00, 899.49it/s]"
     ]
    },
    {
     "name": "stdout",
     "output_type": "stream",
     "text": [
      "DatasetDict({\n",
      "    train: Dataset({\n",
      "        features: ['id', 'article', 'summary'],\n",
      "        num_rows: 287113\n",
      "    })\n",
      "    validation: Dataset({\n",
      "        features: ['id', 'article', 'summary'],\n",
      "        num_rows: 13368\n",
      "    })\n",
      "    test: Dataset({\n",
      "        features: ['id', 'article', 'summary'],\n",
      "        num_rows: 11490\n",
      "    })\n",
      "})\n",
      "dict_keys(['train', 'validation', 'test'])\n",
      "{'id': 'f001ec5c4704938247d27a44948eebb37ae98d01', 'article': '(CNN)The Palestinian Authority officially became the 123rd member of the International Criminal Court on Wednesday, a step that gives the court jurisdiction over alleged crimes in Palestinian territories. The formal accession was marked with a ceremony at The Hague, in the Netherlands, where the court is based. The Palestinians signed the ICC\\'s founding Rome Statute in January, when they also accepted its jurisdiction over alleged crimes committed \"in the occupied Palestinian territory, including East Jerusalem, since June 13, 2014.\" Later that month, the ICC opened a preliminary examination into the situation in Palestinian territories, paving the way for possible war crimes investigations against Israelis. As members of the court, Palestinians may be subject to counter-charges as well. Israel and the United States, neither of which is an ICC member, opposed the Palestinians\\' efforts to join the body. But Palestinian Foreign Minister Riad al-Malki, speaking at Wednesday\\'s ceremony, said it was a move toward greater justice. \"As Palestine formally becomes a State Party to the Rome Statute today, the world is also a step closer to ending a long era of impunity and injustice,\" he said, according to an ICC news release. \"Indeed, today brings us closer to our shared goals of justice and peace.\" Judge Kuniko Ozaki, a vice president of the ICC, said acceding to the treaty was just the first step for the Palestinians. \"As the Rome Statute today enters into force for the State of Palestine, Palestine acquires all the rights as well as responsibilities that come with being a State Party to the Statute. These are substantive commitments, which cannot be taken lightly,\" she said. Rights group Human Rights Watch welcomed the development. \"Governments seeking to penalize Palestine for joining the ICC should immediately end their pressure, and countries that support universal acceptance of the court\\'s treaty should speak out to welcome its membership,\" said Balkees Jarrah, international justice counsel for the group. \"What\\'s objectionable is the attempts to undermine international justice, not Palestine\\'s decision to join a treaty to which over 100 countries around the world are members.\" In January, when the preliminary ICC examination was opened, Israeli Prime Minister Benjamin Netanyahu described it as an outrage, saying the court was overstepping its boundaries. The United States also said it \"strongly\" disagreed with the court\\'s decision. \"As we have said repeatedly, we do not believe that Palestine is a state and therefore we do not believe that it is eligible to join the ICC,\" the State Department said in a statement. It urged the warring sides to resolve their differences through direct negotiations. \"We will continue to oppose actions against Israel at the ICC as counterproductive to the cause of peace,\" it said. But the ICC begs to differ with the definition of a state for its purposes and refers to the territories as \"Palestine.\" While a preliminary examination is not a formal investigation, it allows the court to review evidence and determine whether to investigate suspects on both sides. Prosecutor Fatou Bensouda said her office would \"conduct its analysis in full independence and impartiality.\" The war between Israel and Hamas militants in Gaza last summer left more than 2,000 people dead. The inquiry will include alleged war crimes committed since June. The International Criminal Court was set up in 2002 to prosecute genocide, crimes against humanity and war crimes. CNN\\'s Vasco Cotovio, Kareem Khadder and Faith Karimi contributed to this report.', 'summary': 'Membership gives the ICC jurisdiction over alleged crimes committed in Palestinian territories since last June .\\nIsrael and the United States opposed the move, which could open the door to war crimes investigations against Israelis .'}\n",
      "{\n",
      "    \"id\": \"f001ec5c4704938247d27a44948eebb37ae98d01\",\n",
      "    \"article\": \"(CNN)The Palestinian Authority officially became the 123rd member of the International Criminal Court on Wednesday, a step that gives the court jurisdiction over alleged crimes in Palestinian territories. The formal accession was marked with a ceremony at The Hague, in the Netherlands, where the court is based. The Palestinians signed the ICC's founding Rome Statute in January, when they also accepted its jurisdiction over alleged crimes committed \\\"in the occupied Palestinian territory, including East Jerusalem, since June 13, 2014.\\\" Later that month, the ICC opened a preliminary examination into the situation in Palestinian territories, paving the way for possible war crimes investigations against Israelis. As members of the court, Palestinians may be subject to counter-charges as well. Israel and the United States, neither of which is an ICC member, opposed the Palestinians' efforts to join the body. But Palestinian Foreign Minister Riad al-Malki, speaking at Wednesday's ceremony, said it was a move toward greater justice. \\\"As Palestine formally becomes a State Party to the Rome Statute today, the world is also a step closer to ending a long era of impunity and injustice,\\\" he said, according to an ICC news release. \\\"Indeed, today brings us closer to our shared goals of justice and peace.\\\" Judge Kuniko Ozaki, a vice president of the ICC, said acceding to the treaty was just the first step for the Palestinians. \\\"As the Rome Statute today enters into force for the State of Palestine, Palestine acquires all the rights as well as responsibilities that come with being a State Party to the Statute. These are substantive commitments, which cannot be taken lightly,\\\" she said. Rights group Human Rights Watch welcomed the development. \\\"Governments seeking to penalize Palestine for joining the ICC should immediately end their pressure, and countries that support universal acceptance of the court's treaty should speak out to welcome its membership,\\\" said Balkees Jarrah, international justice counsel for the group. \\\"What's objectionable is the attempts to undermine international justice, not Palestine's decision to join a treaty to which over 100 countries around the world are members.\\\" In January, when the preliminary ICC examination was opened, Israeli Prime Minister Benjamin Netanyahu described it as an outrage, saying the court was overstepping its boundaries. The United States also said it \\\"strongly\\\" disagreed with the court's decision. \\\"As we have said repeatedly, we do not believe that Palestine is a state and therefore we do not believe that it is eligible to join the ICC,\\\" the State Department said in a statement. It urged the warring sides to resolve their differences through direct negotiations. \\\"We will continue to oppose actions against Israel at the ICC as counterproductive to the cause of peace,\\\" it said. But the ICC begs to differ with the definition of a state for its purposes and refers to the territories as \\\"Palestine.\\\" While a preliminary examination is not a formal investigation, it allows the court to review evidence and determine whether to investigate suspects on both sides. Prosecutor Fatou Bensouda said her office would \\\"conduct its analysis in full independence and impartiality.\\\" The war between Israel and Hamas militants in Gaza last summer left more than 2,000 people dead. The inquiry will include alleged war crimes committed since June. The International Criminal Court was set up in 2002 to prosecute genocide, crimes against humanity and war crimes. CNN's Vasco Cotovio, Kareem Khadder and Faith Karimi contributed to this report.\",\n",
      "    \"summary\": \"Membership gives the ICC jurisdiction over alleged crimes committed in Palestinian territories since last June .\\nIsrael and the United States opposed the move, which could open the door to war crimes investigations against Israelis .\"\n",
      "}\n"
     ]
    },
    {
     "name": "stderr",
     "output_type": "stream",
     "text": [
      "\n"
     ]
    }
   ],
   "source": [
    "import json\n",
    "from datasets import load_dataset\n",
    "\n",
    "# Update the paths to your local dataset files\n",
    "data_files = {\n",
    "    \"train\": \"/home/surenoobster/Documents/controllable-readability-summarization/src/Local_Dataset/train.json\",\n",
    "    \"validation\": \"/home/surenoobster/Documents/controllable-readability-summarization/src/Local_Dataset/validation.json\",\n",
    "    \"test\": \"/home/surenoobster/Documents/controllable-readability-summarization/src/Local_Dataset/test.json\"\n",
    "}\n",
    "\n",
    "# Load dataset from local files\n",
    "dataset = load_dataset(\"json\", data_files=data_files)\n",
    "\n",
    "# Print the entire dataset structure (including the splits)\n",
    "print(dataset)\n",
    "\n",
    "# Print the keys (splits) available in the dataset\n",
    "print(dataset.keys())\n",
    "\n",
    "# Check the format of the 'test' dataset\n",
    "test_data = dataset['test']\n",
    "\n",
    "# Print the first entry of the 'test' dataset to inspect its format\n",
    "print(test_data[0])\n",
    "\n",
    "# Optionally, if you want to print it as a JSON string\n",
    "print(json.dumps(test_data[0], indent=4))\n"
   ]
  },
  {
   "cell_type": "code",
   "execution_count": 3,
   "metadata": {},
   "outputs": [
    {
     "name": "stderr",
     "output_type": "stream",
     "text": [
      "Found cached dataset json (/home/surenoobster/.cache/huggingface/datasets/json/default-441fc652ce71c420/0.0.0/8bb11242116d547c741b2e8a1f18598ffdd40a1d4f2a2872c7a28b697434bc96)\n",
      "100%|██████████| 3/3 [00:00<00:00, 376.63it/s]\n",
      "                                                                         "
     ]
    },
    {
     "name": "stdout",
     "output_type": "stream",
     "text": [
      "DatasetDict({\n",
      "    train: Dataset({\n",
      "        features: ['id', 'article', 'summary'],\n",
      "        num_rows: 286512\n",
      "    })\n",
      "    validation: Dataset({\n",
      "        features: ['id', 'article', 'summary'],\n",
      "        num_rows: 13346\n",
      "    })\n",
      "    test: Dataset({\n",
      "        features: ['id', 'article', 'summary'],\n",
      "        num_rows: 11469\n",
      "    })\n",
      "})\n",
      "{'id': 'f001ec5c4704938247d27a44948eebb37ae98d01', 'article': '(CNN)The Palestinian Authority officially became the 123rd member of the International Criminal Court on Wednesday, a step that gives the court jurisdiction over alleged crimes in Palestinian territories. The formal accession was marked with a ceremony at The Hague, in the Netherlands, where the court is based. The Palestinians signed the ICC\\'s founding Rome Statute in January, when they also accepted its jurisdiction over alleged crimes committed \"in the occupied Palestinian territory, including East Jerusalem, since June 13, 2014.\" Later that month, the ICC opened a preliminary examination into the situation in Palestinian territories, paving the way for possible war crimes investigations against Israelis. As members of the court, Palestinians may be subject to counter-charges as well. Israel and the United States, neither of which is an ICC member, opposed the Palestinians\\' efforts to join the body. But Palestinian Foreign Minister Riad al-Malki, speaking at Wednesday\\'s ceremony, said it was a move toward greater justice. \"As Palestine formally becomes a State Party to the Rome Statute today, the world is also a step closer to ending a long era of impunity and injustice,\" he said, according to an ICC news release. \"Indeed, today brings us closer to our shared goals of justice and peace.\" Judge Kuniko Ozaki, a vice president of the ICC, said acceding to the treaty was just the first step for the Palestinians. \"As the Rome Statute today enters into force for the State of Palestine, Palestine acquires all the rights as well as responsibilities that come with being a State Party to the Statute. These are substantive commitments, which cannot be taken lightly,\" she said. Rights group Human Rights Watch welcomed the development. \"Governments seeking to penalize Palestine for joining the ICC should immediately end their pressure, and countries that support universal acceptance of the court\\'s treaty should speak out to welcome its membership,\" said Balkees Jarrah, international justice counsel for the group. \"What\\'s objectionable is the attempts to undermine international justice, not Palestine\\'s decision to join a treaty to which over 100 countries around the world are members.\" In January, when the preliminary ICC examination was opened, Israeli Prime Minister Benjamin Netanyahu described it as an outrage, saying the court was overstepping its boundaries. The United States also said it \"strongly\" disagreed with the court\\'s decision. \"As we have said repeatedly, we do not believe that Palestine is a state and therefore we do not believe that it is eligible to join the ICC,\" the State Department said in a statement. It urged the warring sides to resolve their differences through direct negotiations. \"We will continue to oppose actions against Israel at the ICC as counterproductive to the cause of peace,\" it said. But the ICC begs to differ with the definition of a state for its purposes and refers to the territories as \"Palestine.\" While a preliminary examination is not a formal investigation, it allows the court to review evidence and determine whether to investigate suspects on both sides. Prosecutor Fatou Bensouda said her office would \"conduct its analysis in full independence and impartiality.\" The war between Israel and Hamas militants in Gaza last summer left more than 2,000 people dead. The inquiry will include alleged war crimes committed since June. The International Criminal Court was set up in 2002 to prosecute genocide, crimes against humanity and war crimes. CNN\\'s Vasco Cotovio, Kareem Khadder and Faith Karimi contributed to this report.', 'summary': 'Membership gives the ICC jurisdiction over alleged crimes committed in Palestinian territories since last June .\\nIsrael and the United States opposed the move, which could open the door to war crimes investigations against Israelis .'}\n",
      "{\n",
      "    \"id\": \"f001ec5c4704938247d27a44948eebb37ae98d01\",\n",
      "    \"article\": \"(CNN)The Palestinian Authority officially became the 123rd member of the International Criminal Court on Wednesday, a step that gives the court jurisdiction over alleged crimes in Palestinian territories. The formal accession was marked with a ceremony at The Hague, in the Netherlands, where the court is based. The Palestinians signed the ICC's founding Rome Statute in January, when they also accepted its jurisdiction over alleged crimes committed \\\"in the occupied Palestinian territory, including East Jerusalem, since June 13, 2014.\\\" Later that month, the ICC opened a preliminary examination into the situation in Palestinian territories, paving the way for possible war crimes investigations against Israelis. As members of the court, Palestinians may be subject to counter-charges as well. Israel and the United States, neither of which is an ICC member, opposed the Palestinians' efforts to join the body. But Palestinian Foreign Minister Riad al-Malki, speaking at Wednesday's ceremony, said it was a move toward greater justice. \\\"As Palestine formally becomes a State Party to the Rome Statute today, the world is also a step closer to ending a long era of impunity and injustice,\\\" he said, according to an ICC news release. \\\"Indeed, today brings us closer to our shared goals of justice and peace.\\\" Judge Kuniko Ozaki, a vice president of the ICC, said acceding to the treaty was just the first step for the Palestinians. \\\"As the Rome Statute today enters into force for the State of Palestine, Palestine acquires all the rights as well as responsibilities that come with being a State Party to the Statute. These are substantive commitments, which cannot be taken lightly,\\\" she said. Rights group Human Rights Watch welcomed the development. \\\"Governments seeking to penalize Palestine for joining the ICC should immediately end their pressure, and countries that support universal acceptance of the court's treaty should speak out to welcome its membership,\\\" said Balkees Jarrah, international justice counsel for the group. \\\"What's objectionable is the attempts to undermine international justice, not Palestine's decision to join a treaty to which over 100 countries around the world are members.\\\" In January, when the preliminary ICC examination was opened, Israeli Prime Minister Benjamin Netanyahu described it as an outrage, saying the court was overstepping its boundaries. The United States also said it \\\"strongly\\\" disagreed with the court's decision. \\\"As we have said repeatedly, we do not believe that Palestine is a state and therefore we do not believe that it is eligible to join the ICC,\\\" the State Department said in a statement. It urged the warring sides to resolve their differences through direct negotiations. \\\"We will continue to oppose actions against Israel at the ICC as counterproductive to the cause of peace,\\\" it said. But the ICC begs to differ with the definition of a state for its purposes and refers to the territories as \\\"Palestine.\\\" While a preliminary examination is not a formal investigation, it allows the court to review evidence and determine whether to investigate suspects on both sides. Prosecutor Fatou Bensouda said her office would \\\"conduct its analysis in full independence and impartiality.\\\" The war between Israel and Hamas militants in Gaza last summer left more than 2,000 people dead. The inquiry will include alleged war crimes committed since June. The International Criminal Court was set up in 2002 to prosecute genocide, crimes against humanity and war crimes. CNN's Vasco Cotovio, Kareem Khadder and Faith Karimi contributed to this report.\",\n",
      "    \"summary\": \"Membership gives the ICC jurisdiction over alleged crimes committed in Palestinian territories since last June .\\nIsrael and the United States opposed the move, which could open the door to war crimes investigations against Israelis .\"\n",
      "}\n"
     ]
    },
    {
     "name": "stderr",
     "output_type": "stream",
     "text": [
      "\r"
     ]
    }
   ],
   "source": [
    "import json\n",
    "from datasets import load_dataset\n",
    "\n",
    "# Update the paths to your local dataset files\n",
    "data_files = {\n",
    "    \"train\": \"/home/surenoobster/Documents/controllable-readability-summarization/src/Local_Dataset/train.json\",\n",
    "    \"validation\": \"/home/surenoobster/Documents/controllable-readability-summarization/src/Local_Dataset/validation.json\",\n",
    "    \"test\": \"/home/surenoobster/Documents/controllable-readability-summarization/src/Local_Dataset/test.json\"\n",
    "}\n",
    "\n",
    "# Load dataset from local files\n",
    "dataset = load_dataset(\"json\", data_files=data_files)\n",
    "\n",
    "# Function to filter articles based on word count\n",
    "def filter_articles_by_length(examples, min_word_count=100):\n",
    "    return [example for example in examples if len(example['article'].split()) >= min_word_count]\n",
    "\n",
    "# Apply the filtering function to each split (train, validation, and test)\n",
    "dataset['train'] = dataset['train'].filter(lambda x: len(x['article'].split()) >= 110)\n",
    "dataset['validation'] = dataset['validation'].filter(lambda x: len(x['article'].split()) >= 110)\n",
    "dataset['test'] = dataset['test'].filter(lambda x: len(x['article'].split()) >= 110)\n",
    "\n",
    "# Print the filtered dataset structure (including the splits)\n",
    "print(dataset)\n",
    "\n",
    "# Check the first entry of the 'test' dataset after filtering\n",
    "test_data = dataset['test']\n",
    "print(test_data[0])\n",
    "\n",
    "# Optionally, if you want to print it as a JSON string\n",
    "print(json.dumps(test_data[0], indent=4))\n"
   ]
  },
  {
   "cell_type": "code",
   "execution_count": 4,
   "metadata": {},
   "outputs": [
    {
     "name": "stderr",
     "output_type": "stream",
     "text": [
      "Found cached dataset json (/home/surenoobster/.cache/huggingface/datasets/json/default-441fc652ce71c420/0.0.0/8bb11242116d547c741b2e8a1f18598ffdd40a1d4f2a2872c7a28b697434bc96)\n",
      "100%|██████████| 3/3 [00:00<00:00, 353.59it/s]\n",
      "Loading cached processed dataset at /home/surenoobster/.cache/huggingface/datasets/json/default-441fc652ce71c420/0.0.0/8bb11242116d547c741b2e8a1f18598ffdd40a1d4f2a2872c7a28b697434bc96/cache-98c02ef5adc243e9.arrow\n",
      "Loading cached processed dataset at /home/surenoobster/.cache/huggingface/datasets/json/default-441fc652ce71c420/0.0.0/8bb11242116d547c741b2e8a1f18598ffdd40a1d4f2a2872c7a28b697434bc96/cache-252b325a33777dbd.arrow\n",
      "Loading cached processed dataset at /home/surenoobster/.cache/huggingface/datasets/json/default-441fc652ce71c420/0.0.0/8bb11242116d547c741b2e8a1f18598ffdd40a1d4f2a2872c7a28b697434bc96/cache-a32df46724bb494f.arrow\n",
      "Creating json from Arrow format: 100%|██████████| 287/287 [00:06<00:00, 45.34ba/s]\n",
      "Creating json from Arrow format: 100%|██████████| 14/14 [00:00<00:00, 43.54ba/s]\n",
      "Creating json from Arrow format: 100%|██████████| 12/12 [00:00<00:00, 47.57ba/s]"
     ]
    },
    {
     "name": "stdout",
     "output_type": "stream",
     "text": [
      "Filtered datasets saved to:\n",
      "Train: /home/surenoobster/Documents/controllable-readability-summarization/src/Local_Dataset/filtered/train_greater_110.json\n",
      "Validation: /home/surenoobster/Documents/controllable-readability-summarization/src/Local_Dataset/filtered/validation_greater_110.json\n",
      "Test: /home/surenoobster/Documents/controllable-readability-summarization/src/Local_Dataset/filtered/test_greater_110.json\n",
      "{'id': 'f001ec5c4704938247d27a44948eebb37ae98d01', 'article': '(CNN)The Palestinian Authority officially became the 123rd member of the International Criminal Court on Wednesday, a step that gives the court jurisdiction over alleged crimes in Palestinian territories. The formal accession was marked with a ceremony at The Hague, in the Netherlands, where the court is based. The Palestinians signed the ICC\\'s founding Rome Statute in January, when they also accepted its jurisdiction over alleged crimes committed \"in the occupied Palestinian territory, including East Jerusalem, since June 13, 2014.\" Later that month, the ICC opened a preliminary examination into the situation in Palestinian territories, paving the way for possible war crimes investigations against Israelis. As members of the court, Palestinians may be subject to counter-charges as well. Israel and the United States, neither of which is an ICC member, opposed the Palestinians\\' efforts to join the body. But Palestinian Foreign Minister Riad al-Malki, speaking at Wednesday\\'s ceremony, said it was a move toward greater justice. \"As Palestine formally becomes a State Party to the Rome Statute today, the world is also a step closer to ending a long era of impunity and injustice,\" he said, according to an ICC news release. \"Indeed, today brings us closer to our shared goals of justice and peace.\" Judge Kuniko Ozaki, a vice president of the ICC, said acceding to the treaty was just the first step for the Palestinians. \"As the Rome Statute today enters into force for the State of Palestine, Palestine acquires all the rights as well as responsibilities that come with being a State Party to the Statute. These are substantive commitments, which cannot be taken lightly,\" she said. Rights group Human Rights Watch welcomed the development. \"Governments seeking to penalize Palestine for joining the ICC should immediately end their pressure, and countries that support universal acceptance of the court\\'s treaty should speak out to welcome its membership,\" said Balkees Jarrah, international justice counsel for the group. \"What\\'s objectionable is the attempts to undermine international justice, not Palestine\\'s decision to join a treaty to which over 100 countries around the world are members.\" In January, when the preliminary ICC examination was opened, Israeli Prime Minister Benjamin Netanyahu described it as an outrage, saying the court was overstepping its boundaries. The United States also said it \"strongly\" disagreed with the court\\'s decision. \"As we have said repeatedly, we do not believe that Palestine is a state and therefore we do not believe that it is eligible to join the ICC,\" the State Department said in a statement. It urged the warring sides to resolve their differences through direct negotiations. \"We will continue to oppose actions against Israel at the ICC as counterproductive to the cause of peace,\" it said. But the ICC begs to differ with the definition of a state for its purposes and refers to the territories as \"Palestine.\" While a preliminary examination is not a formal investigation, it allows the court to review evidence and determine whether to investigate suspects on both sides. Prosecutor Fatou Bensouda said her office would \"conduct its analysis in full independence and impartiality.\" The war between Israel and Hamas militants in Gaza last summer left more than 2,000 people dead. The inquiry will include alleged war crimes committed since June. The International Criminal Court was set up in 2002 to prosecute genocide, crimes against humanity and war crimes. CNN\\'s Vasco Cotovio, Kareem Khadder and Faith Karimi contributed to this report.', 'summary': 'Membership gives the ICC jurisdiction over alleged crimes committed in Palestinian territories since last June .\\nIsrael and the United States opposed the move, which could open the door to war crimes investigations against Israelis .'}\n",
      "{\n",
      "    \"id\": \"f001ec5c4704938247d27a44948eebb37ae98d01\",\n",
      "    \"article\": \"(CNN)The Palestinian Authority officially became the 123rd member of the International Criminal Court on Wednesday, a step that gives the court jurisdiction over alleged crimes in Palestinian territories. The formal accession was marked with a ceremony at The Hague, in the Netherlands, where the court is based. The Palestinians signed the ICC's founding Rome Statute in January, when they also accepted its jurisdiction over alleged crimes committed \\\"in the occupied Palestinian territory, including East Jerusalem, since June 13, 2014.\\\" Later that month, the ICC opened a preliminary examination into the situation in Palestinian territories, paving the way for possible war crimes investigations against Israelis. As members of the court, Palestinians may be subject to counter-charges as well. Israel and the United States, neither of which is an ICC member, opposed the Palestinians' efforts to join the body. But Palestinian Foreign Minister Riad al-Malki, speaking at Wednesday's ceremony, said it was a move toward greater justice. \\\"As Palestine formally becomes a State Party to the Rome Statute today, the world is also a step closer to ending a long era of impunity and injustice,\\\" he said, according to an ICC news release. \\\"Indeed, today brings us closer to our shared goals of justice and peace.\\\" Judge Kuniko Ozaki, a vice president of the ICC, said acceding to the treaty was just the first step for the Palestinians. \\\"As the Rome Statute today enters into force for the State of Palestine, Palestine acquires all the rights as well as responsibilities that come with being a State Party to the Statute. These are substantive commitments, which cannot be taken lightly,\\\" she said. Rights group Human Rights Watch welcomed the development. \\\"Governments seeking to penalize Palestine for joining the ICC should immediately end their pressure, and countries that support universal acceptance of the court's treaty should speak out to welcome its membership,\\\" said Balkees Jarrah, international justice counsel for the group. \\\"What's objectionable is the attempts to undermine international justice, not Palestine's decision to join a treaty to which over 100 countries around the world are members.\\\" In January, when the preliminary ICC examination was opened, Israeli Prime Minister Benjamin Netanyahu described it as an outrage, saying the court was overstepping its boundaries. The United States also said it \\\"strongly\\\" disagreed with the court's decision. \\\"As we have said repeatedly, we do not believe that Palestine is a state and therefore we do not believe that it is eligible to join the ICC,\\\" the State Department said in a statement. It urged the warring sides to resolve their differences through direct negotiations. \\\"We will continue to oppose actions against Israel at the ICC as counterproductive to the cause of peace,\\\" it said. But the ICC begs to differ with the definition of a state for its purposes and refers to the territories as \\\"Palestine.\\\" While a preliminary examination is not a formal investigation, it allows the court to review evidence and determine whether to investigate suspects on both sides. Prosecutor Fatou Bensouda said her office would \\\"conduct its analysis in full independence and impartiality.\\\" The war between Israel and Hamas militants in Gaza last summer left more than 2,000 people dead. The inquiry will include alleged war crimes committed since June. The International Criminal Court was set up in 2002 to prosecute genocide, crimes against humanity and war crimes. CNN's Vasco Cotovio, Kareem Khadder and Faith Karimi contributed to this report.\",\n",
      "    \"summary\": \"Membership gives the ICC jurisdiction over alleged crimes committed in Palestinian territories since last June .\\nIsrael and the United States opposed the move, which could open the door to war crimes investigations against Israelis .\"\n",
      "}\n"
     ]
    },
    {
     "name": "stderr",
     "output_type": "stream",
     "text": [
      "\n"
     ]
    }
   ],
   "source": [
    "import json\n",
    "import os\n",
    "from datasets import load_dataset\n",
    "\n",
    "# Update the paths to your local dataset files\n",
    "data_files = {\n",
    "    \"train\": \"/home/surenoobster/Documents/controllable-readability-summarization/src/Local_Dataset/train.json\",\n",
    "    \"validation\": \"/home/surenoobster/Documents/controllable-readability-summarization/src/Local_Dataset/validation.json\",\n",
    "    \"test\": \"/home/surenoobster/Documents/controllable-readability-summarization/src/Local_Dataset/test.json\"\n",
    "}\n",
    "\n",
    "# Load dataset from local files\n",
    "dataset = load_dataset(\"json\", data_files=data_files)\n",
    "\n",
    "# Function to filter articles based on word count\n",
    "def filter_articles_by_length(examples, min_word_count=110):\n",
    "    return [example for example in examples if len(example['article'].split()) >= min_word_count]\n",
    "\n",
    "# Apply the filtering function to each split (train, validation, and test)\n",
    "filtered_train = dataset['train'].filter(lambda x: len(x['article'].split()) >= 110)\n",
    "filtered_validation = dataset['validation'].filter(lambda x: len(x['article'].split()) >= 110)\n",
    "filtered_test = dataset['test'].filter(lambda x: len(x['article'].split()) >= 110)\n",
    "\n",
    "# Create a new directory for storing the filtered datasets\n",
    "output_dir = \"/home/surenoobster/Documents/controllable-readability-summarization/src/Local_Dataset/filtered\"\n",
    "os.makedirs(output_dir, exist_ok=True)\n",
    "\n",
    "# Define the output file paths\n",
    "train_file = os.path.join(output_dir, \"train_greater_110.json\")\n",
    "validation_file = os.path.join(output_dir, \"validation_greater_110.json\")\n",
    "test_file = os.path.join(output_dir, \"test_greater_110.json\")\n",
    "\n",
    "# Save the filtered datasets to JSON files\n",
    "filtered_train.to_json(train_file)\n",
    "filtered_validation.to_json(validation_file)\n",
    "filtered_test.to_json(test_file)\n",
    "\n",
    "# Print confirmation of saved files\n",
    "print(f\"Filtered datasets saved to:\")\n",
    "print(f\"Train: {train_file}\")\n",
    "print(f\"Validation: {validation_file}\")\n",
    "print(f\"Test: {test_file}\")\n",
    "\n",
    "# Optionally, if you want to inspect the first entry of the 'test' dataset after filtering\n",
    "print(filtered_test[0])\n",
    "\n",
    "# Optionally, if you want to print it as a JSON string\n",
    "print(json.dumps(filtered_test[0], indent=4))\n"
   ]
  },
  {
   "cell_type": "code",
   "execution_count": 2,
   "metadata": {},
   "outputs": [
    {
     "name": "stderr",
     "output_type": "stream",
     "text": [
      "Found cached dataset json (/home/surenoobster/.cache/huggingface/datasets/json/default-441fc652ce71c420/0.0.0/8bb11242116d547c741b2e8a1f18598ffdd40a1d4f2a2872c7a28b697434bc96)\n"
     ]
    },
    {
     "data": {
      "application/vnd.jupyter.widget-view+json": {
       "model_id": "9aed07943bcf4666bfdd1686cdc27a2a",
       "version_major": 2,
       "version_minor": 0
      },
      "text/plain": [
       "  0%|          | 0/3 [00:00<?, ?it/s]"
      ]
     },
     "metadata": {},
     "output_type": "display_data"
    },
    {
     "name": "stderr",
     "output_type": "stream",
     "text": [
      "Loading cached processed dataset at /home/surenoobster/.cache/huggingface/datasets/json/default-441fc652ce71c420/0.0.0/8bb11242116d547c741b2e8a1f18598ffdd40a1d4f2a2872c7a28b697434bc96/cache-7038355c485c8778.arrow\n",
      "Loading cached processed dataset at /home/surenoobster/.cache/huggingface/datasets/json/default-441fc652ce71c420/0.0.0/8bb11242116d547c741b2e8a1f18598ffdd40a1d4f2a2872c7a28b697434bc96/cache-2a34986dce39de41.arrow\n",
      "Loading cached processed dataset at /home/surenoobster/.cache/huggingface/datasets/json/default-441fc652ce71c420/0.0.0/8bb11242116d547c741b2e8a1f18598ffdd40a1d4f2a2872c7a28b697434bc96/cache-46d1e6babf175c99.arrow\n"
     ]
    },
    {
     "data": {
      "application/vnd.jupyter.widget-view+json": {
       "model_id": "ab9de4b8b4034d8c820b3f067da35834",
       "version_major": 2,
       "version_minor": 0
      },
      "text/plain": [
       "Creating json from Arrow format:   0%|          | 0/5 [00:00<?, ?ba/s]"
      ]
     },
     "metadata": {},
     "output_type": "display_data"
    },
    {
     "data": {
      "application/vnd.jupyter.widget-view+json": {
       "model_id": "81b9a2dab2b1400b84da4911721ad1e7",
       "version_major": 2,
       "version_minor": 0
      },
      "text/plain": [
       "Creating json from Arrow format:   0%|          | 0/1 [00:00<?, ?ba/s]"
      ]
     },
     "metadata": {},
     "output_type": "display_data"
    },
    {
     "data": {
      "application/vnd.jupyter.widget-view+json": {
       "model_id": "53f58f303e8a42798793f38c008b531d",
       "version_major": 2,
       "version_minor": 0
      },
      "text/plain": [
       "Creating json from Arrow format:   0%|          | 0/1 [00:00<?, ?ba/s]"
      ]
     },
     "metadata": {},
     "output_type": "display_data"
    },
    {
     "name": "stdout",
     "output_type": "stream",
     "text": [
      "Filtered datasets saved to:\n",
      "Train: /home/surenoobster/Documents/controllable-readability-summarization/src/18Dec/train_greater_110_article_10_summary.json\n",
      "Validation: /home/surenoobster/Documents/controllable-readability-summarization/src/18Dec/validation_greater_110_article_10_summary.json\n",
      "Test: /home/surenoobster/Documents/controllable-readability-summarization/src/18Dec/test_greater_110_article_10_summary.json\n",
      "First entry from filtered test dataset:\n",
      "{\n",
      "    \"id\": \"e809facdb21e9df97dc3073fe922b021add14f0c\",\n",
      "    \"article\": \"The girlfriend of an Arizona State University football player who has been suspended after she accused him of abuse has now publicly recanted her story, claiming that mood swings made her lie about being assaulted. Davon Durant, a promising linebacker at ASU, was arrested on domestic violence charges after his girlfriend of 18 months, Kelsi Langley, claimed that he hit her in the face and grabbed her neck during an argument in his car March 7. Following his arrest, Durant, a transfer from a Kansas college and a five-star recruit, was suspended from the football team indefinitely and could be facing expulsion. She said, she said: Arizona State University football player Davon Durant (left) was arrested last month on domestic abuse charges, but his girlfriend Kelsi Langley is now saying that he never struck her . Speaking out: Langley, an ASU student, held a press conference on campus Tuesday declaring that her boyfriend is innocent, and that she lied about the assault because she was jealous . Less than two weeks after the incident, Langley walked back her previous statements in interviews with reporters, and on Tuesday afternoon she held a press conference that she claims set the record straight. Standing on ASU's campus alongside civil rights leader Reverend Jarret Maupin, the 19-year-old Ms Langley said her earlier assault story was \\u2019completely made up' and Durant was innocent. \\u2018I was angry. I'm a woman. Women have mood swings,\\u2019 Langley said. \\u2018We had gotten into an argument about girls trying to talk to him and I was really jealous of that,\\u2019 reported AZ Central. Davon Durant pleaded not guilty to one felony count of aggravated assault and three misdemeanor counts of disorderly conduct. According to a police report, Kelsi Langely suffered a bruise below her left eye and there were visible finger marks around her neck. The 19-year-old refused medical care and declined to help with her boyfriend\\u2019s prosecution, according to Temple police. During Tuesday's press conference, Langley and Maupin pointed a finger of blame at the local police and the media, accusing them of trying to make Durant out to be 'some big black athlete' and blowing a lovers\\u2019 quarrel out of proportions. The 19-year-old woman said that during her interview with police after the March 7 incident, officers asked her questions that were 'almost suggestive.' Who's lying?\\u00a0According to a police report, Kelsi Langely suffered a bruise below her left eye and there were visible finger marks around her neck - but the student said the neck bruises were love bites and her eyes were red from crying . Rising star: Following his arrest, Durant, a transfer from a Kansas college and a five-star recruit, was suspended from the football team indefinitely and could be facing expulsion . Blame game: Langley and civil rights activist Jarret Maupin accused Temple, Arizona, police and the media of falsely portraying Durant as a thug and his girlfriend as a helpless victim . Maupin said Langley returned to the precinct the next day and withdrew her complaint. She also posted Durant's bail. 'These aren't the actions of someone who has been severely abused or lives in fear,\\u2019 the civil rights activist told reporters. Ms Langley insisted that she does not want to be portrayed as a victim 'because that's not the case at all.' \\u2018He never laid a finger on me,\\u2019 she stated. \\u2018Davon would never touch me. There's no way. He's the kindest person I've ever met in my entire life. He couldn't hurt a fly, and it was my anger that got the best of me. she's got his back: Langley posted Durant's bail after his arrest and recanted her story the following day . \\u2018Everyone's been in a relationship, everyone gets into arguments, and a lot of people say things that they don't mean.\\u2019 However, a 911 recording released by police to Fox 10 Phoenix appears to corroborate Langley's original statement. A witness called police March 7 telling a 911 operator that he had seen a man beating a girl in a car. The caller said other people also witnessed the altercation. But Langley insisted that the witness was wrong, and that their dispute never turned physical. She now wants all charges against Durant dropped. In her first conversation with detectives, Kelsi Langley reportedly described how she got into an argument with Durant and told him she wanted him to leave, reported AZFamily.com. The football player then allegedly demanded that Langley go up to her apartment with him so he could retrieve some of his belongings, but the woman refused. That is when Durant allegedly struck her in the face and squeezed her neck. In his version of events, Durant said he had a verbal dispute with Langley in his car. \\u2018When I lied to the police, it was out of spite,\\u2019 Langley told ESPN a week and a half after the incident. \\u2018I wasn't thinking. It was a very vengeful and spiteful thing to do.\\u2019 During the interview, the ASU student said that the bruises on her neck were \\u2018hickeys\\u2019 and her eyes were red from crying. \\u2018I already knew I had marks on my neck, and I knew I could pass them off as something,\\u2019 she said. Maricopa County Attorney's Office has released a statement saying: \\u2018In domestic violence cases it is especially important to avoid placing victims at the center of evidentiary disputes outside of the court process.\",\n",
      "    \"summary\": \"ASU linebacker Davon Durant, 19, was arrested last month after he allegedly hit his\\u00a0girlfriend\\u00a0of 18 months in the face and choked her .\\nKelsi Langley, 19, posted his bail and recanted her story to police the next day .\\nWitness called 911 on the day of alleged attack saying he had seen a man hit a woman in a car .\\nDurant pleaded not guilty to aggravated assault and disorderly\\u00a0conduct,\\u00a0and has been\\u00a0suspended\\u00a0indefinitely\\u00a0from the team .\\nLangley later claimed she got angry with Durant and lied to police .\\nSaid finger marks on her neck were hickeys and her eyes were red from crying, not bruised .\\nThe female ASU student and a civil rights activist accused police of\\u00a0making\\u00a0Durant\\u00a0out to be a thug .\"\n",
      "}\n"
     ]
    }
   ],
   "source": [
    "import json\n",
    "import os\n",
    "from datasets import load_dataset\n",
    "\n",
    "# Update the paths to your local dataset files\n",
    "data_files = {\n",
    "    \"train\": \"/home/surenoobster/Documents/controllable-readability-summarization/src/Local_Dataset/train.json\",\n",
    "    \"validation\": \"/home/surenoobster/Documents/controllable-readability-summarization/src/Local_Dataset/validation.json\",\n",
    "    \"test\": \"/home/surenoobster/Documents/controllable-readability-summarization/src/Local_Dataset/test.json\"\n",
    "}\n",
    "\n",
    "# Load dataset from local files\n",
    "dataset = load_dataset(\"json\", data_files=data_files)\n",
    "\n",
    "# Function to filter based on article and summary word counts\n",
    "def filter_article_and_summary(examples, min_article_words=110, min_summary_words=110):\n",
    "    \"\"\"\n",
    "    Filters examples to retain those where:\n",
    "    - The article has at least `min_article_words`.\n",
    "    - The summary has at least `min_summary_words`.\n",
    "    \"\"\"\n",
    "    return [\n",
    "        example\n",
    "        for example in examples\n",
    "        if len(example['article'].split()) >= min_article_words\n",
    "        and len(example['summary'].split()) >= min_summary_words\n",
    "    ]\n",
    "\n",
    "# Apply filtering to each split (train, validation, and test)\n",
    "filtered_train = dataset['train'].filter(\n",
    "    lambda x: len(x['article'].split()) >= 110 and len(x['summary'].split()) >= 110\n",
    ")\n",
    "filtered_validation = dataset['validation'].filter(\n",
    "    lambda x: len(x['article'].split()) >= 110 and len(x['summary'].split()) >= 110\n",
    ")\n",
    "filtered_test = dataset['test'].filter(\n",
    "    lambda x: len(x['article'].split()) >= 110 and len(x['summary'].split()) >= 110\n",
    ")\n",
    "\n",
    "# Create a new directory for storing the filtered datasets\n",
    "output_dir = \"/home/surenoobster/Documents/controllable-readability-summarization/src/18Dec\"\n",
    "os.makedirs(output_dir, exist_ok=True)\n",
    "\n",
    "# Define the output file paths\n",
    "train_file = os.path.join(output_dir, \"train_greater_110_article_10_summary.json\")\n",
    "validation_file = os.path.join(output_dir, \"validation_greater_110_article_10_summary.json\")\n",
    "test_file = os.path.join(output_dir, \"test_greater_110_article_10_summary.json\")\n",
    "\n",
    "# Save the filtered datasets to JSON files\n",
    "filtered_train.to_json(train_file)\n",
    "filtered_validation.to_json(validation_file)\n",
    "filtered_test.to_json(test_file)\n",
    "\n",
    "# Print confirmation of saved files\n",
    "print(f\"Filtered datasets saved to:\")\n",
    "print(f\"Train: {train_file}\")\n",
    "print(f\"Validation: {validation_file}\")\n",
    "print(f\"Test: {test_file}\")\n",
    "\n",
    "# Optionally, inspect the first entry of the 'test' dataset after filtering\n",
    "print(\"First entry from filtered test dataset:\")\n",
    "print(json.dumps(filtered_test[0], indent=4))\n"
   ]
  },
  {
   "cell_type": "code",
   "execution_count": 4,
   "metadata": {},
   "outputs": [
    {
     "name": "stdout",
     "output_type": "stream",
     "text": [
      "Number of entries with missing readability metrics: 5\n"
     ]
    }
   ],
   "source": [
    "import json\n",
    "\n",
    "def open_file(file):\n",
    "    entities = []\n",
    "    with open(file, 'r') as f:\n",
    "        for line in f.readlines():\n",
    "            entities.append(json.loads(line))\n",
    "    return entities\n",
    "\n",
    "def count_missing_metrics(file):\n",
    "    data = open_file(file)\n",
    "\n",
    "    # Track the number of entries with missing metrics\n",
    "    missing_metrics_count = 0\n",
    "    \n",
    "    for entry in data:\n",
    "        # Check if any readability metric is None in summary_metrics\n",
    "        summary_metrics = entry.get(\"summary_metrics\", {})\n",
    "        \n",
    "        # Count missing metrics\n",
    "        missing_metrics = {metric: score for metric, score in summary_metrics.items() if score is None}\n",
    "\n",
    "        if missing_metrics:  # If there are missing scores\n",
    "            missing_metrics_count += 1\n",
    "\n",
    "    return missing_metrics_count\n",
    "\n",
    "# Provide the path to your file\n",
    "file_path = '/home/surenoobster/Documents/controllable-readability-summarization/src/18dec_retried_finalboss/train_metrics_summary_article_full.json'\n",
    "missing_metrics_count = count_missing_metrics(file_path)\n",
    "\n",
    "# Print the count of entries with missing metrics\n",
    "print(f\"Number of entries with missing readability metrics: {missing_metrics_count}\")\n"
   ]
  },
  {
   "cell_type": "code",
   "execution_count": 5,
   "metadata": {},
   "outputs": [
    {
     "name": "stdout",
     "output_type": "stream",
     "text": [
      "Cleaned dataset saved to: /home/surenoobster/Documents/controllable-readability-summarization/src/18dec_retried_finalboss/train_metrics_summary_article_cleaned.json\n"
     ]
    }
   ],
   "source": [
    "import json\n",
    "\n",
    "def open_file(file):\n",
    "    entities = []\n",
    "    with open(file, 'r') as f:\n",
    "        for line in f.readlines():\n",
    "            entities.append(json.loads(line))\n",
    "    return entities\n",
    "\n",
    "def drop_entries_with_missing_metrics(file, output_file):\n",
    "    data = open_file(file)\n",
    "\n",
    "    # Filter out entries with missing readability metrics\n",
    "    cleaned_data = [\n",
    "        entry for entry in data\n",
    "        if not any(score is None for score in entry.get(\"summary_metrics\", {}).values())\n",
    "    ]\n",
    "\n",
    "    # Save the cleaned data to a new file\n",
    "    with open(output_file, 'w') as f:\n",
    "        for entry in cleaned_data:\n",
    "            f.write(json.dumps(entry) + \"\\n\")\n",
    "\n",
    "# Provide the path to your file\n",
    "file_path = '/home/surenoobster/Documents/controllable-readability-summarization/src/18dec_retried_finalboss/train_metrics_summary_article_full.json'\n",
    "output_file_path = '/home/surenoobster/Documents/controllable-readability-summarization/src/18dec_retried_finalboss/train_metrics_summary_article_cleaned.json'\n",
    "\n",
    "# Drop the entries with missing metrics and save the cleaned data\n",
    "drop_entries_with_missing_metrics(file_path, output_file_path)\n",
    "\n",
    "print(f\"Cleaned dataset saved to: {output_file_path}\")\n"
   ]
  },
  {
   "cell_type": "code",
   "execution_count": null,
   "metadata": {},
   "outputs": [],
   "source": [
    "import json\n",
    "\n",
    "def open_file(file):\n",
    "    entities = []\n",
    "    with open(file, 'r') as f:\n",
    "        for line in f.readlines():\n",
    "            entities.append(json.loads(line))\n",
    "    return entities\n",
    "\n",
    "def drop_entries_with_missing_metrics(file, output_file):\n",
    "    data = open_file(file)\n",
    "\n",
    "    # Filter out entries with missing readability metrics\n",
    "    cleaned_data = [\n",
    "        entry for entry in data\n",
    "        if not any(score is None for score in entry.get(\"summary_metrics\", {}).values())\n",
    "    ]\n",
    "\n",
    "    # Save the cleaned data to a new file\n",
    "    with open(output_file, 'w') as f:\n",
    "        for entry in cleaned_data:\n",
    "            f.write(json.dumps(entry) + \"\\n\")\n",
    "\n",
    "# Provide the path to your file\n",
    "file_path = '/home/surenoobster/Documents/controllable-readability-summarization/src/18dec_retried_finalboss/train_metrics_summary_article_full.json'\n",
    "output_file_path = '/home/surenoobster/Documents/controllable-readability-summarization/src/18dec_retried_finalboss/train_metrics_summary_article_cleaned.json'\n",
    "\n",
    "# Drop the entries with missing metrics and save the cleaned data\n",
    "drop_entries_with_missing_metrics(file_path, output_file_path)\n",
    "\n",
    "print(f\"Cleaned dataset saved to: {output_file_path}\")\n"
   ]
  }
 ],
 "metadata": {
  "kernelspec": {
   "display_name": "readability_summ",
   "language": "python",
   "name": "python3"
  },
  "language_info": {
   "codemirror_mode": {
    "name": "ipython",
    "version": 3
   },
   "file_extension": ".py",
   "mimetype": "text/x-python",
   "name": "python",
   "nbconvert_exporter": "python",
   "pygments_lexer": "ipython3",
   "version": "3.7.12"
  }
 },
 "nbformat": 4,
 "nbformat_minor": 2
}
